{
  "nbformat": 4,
  "nbformat_minor": 0,
  "metadata": {
    "colab": {
      "name": "NNKeras.ipynb",
      "provenance": [],
      "collapsed_sections": []
    },
    "kernelspec": {
      "name": "python3",
      "display_name": "Python 3"
    }
  },
  "cells": [
    {
      "cell_type": "code",
      "metadata": {
        "id": "pPe2ob8laOzO",
        "colab_type": "code",
        "colab": {
          "base_uri": "https://localhost:8080/",
          "height": 34
        },
        "outputId": "a97b91c7-1fa1-42db-a178-19e61f5df766"
      },
      "source": [
        "from keras import models\n",
        "from keras import layers\n",
        "import keras\n",
        "from csv import reader\n",
        "from keras.utils import to_categorical\n",
        "import numpy\n"
      ],
      "execution_count": 2,
      "outputs": [
        {
          "output_type": "stream",
          "text": [
            "Using TensorFlow backend.\n"
          ],
          "name": "stderr"
        }
      ]
    },
    {
      "cell_type": "markdown",
      "metadata": {
        "id": "gJZ0VMn1fKjJ",
        "colab_type": "text"
      },
      "source": [
        "The next block of code is the one that is in charge of cleaning, building, spliting and scaling the ds"
      ]
    },
    {
      "cell_type": "code",
      "metadata": {
        "id": "LZrzleyLc7d7",
        "colab_type": "code",
        "colab": {}
      },
      "source": [
        "def load_csv(filename):\n",
        "  \"\"\" This function cleans the dataset from the rows that have Null and retur a clean dataset\"\"\"\n",
        "  dataset = []\n",
        "  with open(filename, 'r') as file:\n",
        "    csvReader =  reader(file)\n",
        "    for row in csvReader:\n",
        "      if (not row) or (\"NA\" in row):\n",
        "        continue\n",
        "      dataset.append(row[3:])\n",
        "  dataset.pop(0)#This is to skip the names of the columns\n",
        "  return dataset\n",
        "\n",
        "\n",
        "def str_column_to_float(dataset):#This changes all the values to float values, to avoid problems with max function\n",
        "  for i in range(len(dataset[0])):\n",
        "    for row in dataset:\n",
        "      row[i] = float(row[i].strip())\n",
        "\n",
        "def scale(dataset): #this gives us values between -1 and 1\n",
        "  minmax = []\n",
        "  for i in range(len(dataset[0])): #This is looking in each column, row example:['0', '39', '4', '1', '9', '0', '0', '0', '0', '170', '110.5', '69', '22.19', '60', '103', '0']\n",
        "    columnValues = [row[i] for row in dataset]\n",
        "    acum = 0\n",
        "    for row in columnValues:\n",
        "      acum += row\n",
        "    value_min = min(columnValues)\n",
        "    value_max = max(columnValues)\n",
        "    minmax.append([value_min, value_max])\n",
        "  for row in dataset:\n",
        "    for i in range(len(row)):\n",
        "      if(minmax[i][0] != 1 and (minmax[i][1] - minmax[i][0]) != 0 ):\n",
        "         row[i] = (row[i] - minmax[i][0]) / (minmax[i][1] - minmax[i][0]) \n",
        "  \n",
        "\n",
        "def getYX(ds):\n",
        "  y = []\n",
        "  for row in ds:\n",
        "    temp = row.pop(len(row)-1)\n",
        "    y.append(temp)\n",
        "  return y\n",
        "\n",
        "def splitDs (dataset,splits):\n",
        "  splitData = []\n",
        "  cpyDs = list(dataset)\n",
        "  splitSize = int(len(dataset)/splits)\n",
        "  for i in range(splits):\n",
        "    split= []\n",
        "    for j in range(splitSize):\n",
        "      split.append(cpyDs.pop())\n",
        "    splitData.append(split)\n",
        "  return splitData\n",
        "\n",
        "def getDs(filename): #Build the complete and clean ds\n",
        "  ds = load_csv(filename)\n",
        "  str_column_to_float(ds)\n",
        "  scale(ds)\n",
        "  return splitDs(ds,2)"
      ],
      "execution_count": 0,
      "outputs": []
    },
    {
      "cell_type": "code",
      "metadata": {
        "id": "ks8hMhKyc15K",
        "colab_type": "code",
        "outputId": "2baa129c-99f6-448d-89e0-a690ff07f0ff",
        "colab": {
          "base_uri": "https://localhost:8080/",
          "height": 84
        }
      },
      "source": [
        "network = models.Sequential()\n",
        "network.add(layers.Dense(128,activation='tanh', input_shape=(36,)))\n",
        "network.add(layers.Dense(64,activation='tanh'))\n",
        "network.add(layers.Dense(32,activation='tanh'))\n",
        "network.add(layers.Dense(16,activation='tanh'))\n",
        "network.add(layers.Dense(4,activation='softmax'))\n",
        "\n",
        "\n",
        "\n",
        "ds = getDs(\"CTG.csv\")\n",
        "\n",
        "dsTrainY = getYX(ds[0])\n",
        "dsTrainY = numpy.asarray(dsTrainY).astype('float32')\n",
        "#dsTrainY = to_categorical(dsTrainY)\n",
        "print(\"Train Label Shape\", dsTrainY.shape)\n",
        "\n",
        "dsTrainX = ds[0]\n",
        "dsTrainX = numpy.array(dsTrainX)\n",
        "print(\"Train In Shape\",dsTrainX.shape)\n",
        "\n",
        "\n",
        "dsTestY = getYX(ds[1])\n",
        "dsTestY = numpy.asarray(dsTestY).astype('float32')\n",
        "#dsTestY = to_categorical(dsTestY)\n",
        "print(\"Test Labels Shape\", dsTestY.shape)\n",
        "\n",
        "\n",
        "dsTestX = ds[1]\n",
        "dsTestX = numpy.array(dsTestX)\n",
        "print(\"Test In Shape\",dsTestX.shape)\n"
      ],
      "execution_count": 5,
      "outputs": [
        {
          "output_type": "stream",
          "text": [
            "Train Label Shape (1063,)\n",
            "Train In Shape (1063, 36)\n",
            "Test Labels Shape (1063,)\n",
            "Test In Shape (1063, 36)\n"
          ],
          "name": "stdout"
        }
      ]
    },
    {
      "cell_type": "code",
      "metadata": {
        "id": "RMSwdJWBm6v5",
        "colab_type": "code",
        "outputId": "85f468bb-e136-4ede-aa69-80fc98c3a98a",
        "colab": {
          "base_uri": "https://localhost:8080/",
          "height": 319
        }
      },
      "source": [
        "network.summary()\n",
        "opti = keras.optimizers.Adam(learning_rate=0.0001)\n",
        "network.compile(optimizer=opti,\n",
        "\t\tloss='sparse_categorical_crossentropy',\n",
        "\t\tmetrics=['accuracy'])"
      ],
      "execution_count": 6,
      "outputs": [
        {
          "output_type": "stream",
          "text": [
            "Model: \"sequential_2\"\n",
            "_________________________________________________________________\n",
            "Layer (type)                 Output Shape              Param #   \n",
            "=================================================================\n",
            "dense_6 (Dense)              (None, 128)               4736      \n",
            "_________________________________________________________________\n",
            "dense_7 (Dense)              (None, 64)                8256      \n",
            "_________________________________________________________________\n",
            "dense_8 (Dense)              (None, 32)                2080      \n",
            "_________________________________________________________________\n",
            "dense_9 (Dense)              (None, 16)                528       \n",
            "_________________________________________________________________\n",
            "dense_10 (Dense)             (None, 4)                 68        \n",
            "=================================================================\n",
            "Total params: 15,668\n",
            "Trainable params: 15,668\n",
            "Non-trainable params: 0\n",
            "_________________________________________________________________\n"
          ],
          "name": "stdout"
        }
      ]
    },
    {
      "cell_type": "code",
      "metadata": {
        "id": "-ClITM4BVdxO",
        "colab_type": "code",
        "outputId": "a0d382fb-d471-4458-e90e-9b5952de9142",
        "colab": {
          "base_uri": "https://localhost:8080/",
          "height": 907
        }
      },
      "source": [
        "network.fit(dsTrainX,dsTrainY,validation_data=(dsTestX,dsTestY),epochs = 25)\n",
        "\n",
        "test_loss, test_acc = network.evaluate(dsTestX, dsTestY)\n",
        "print ('test_acc:', test_acc, ' test_loss:', test_loss)"
      ],
      "execution_count": 7,
      "outputs": [
        {
          "output_type": "stream",
          "text": [
            "Train on 1063 samples, validate on 1063 samples\n",
            "Epoch 1/25\n",
            "1063/1063 [==============================] - 1s 497us/step - loss: 1.6250 - accuracy: 0.1552 - val_loss: 1.1684 - val_accuracy: 0.5118\n",
            "Epoch 2/25\n",
            "1063/1063 [==============================] - 0s 104us/step - loss: 0.8316 - accuracy: 0.8627 - val_loss: 0.9067 - val_accuracy: 0.6905\n",
            "Epoch 3/25\n",
            "1063/1063 [==============================] - 0s 93us/step - loss: 0.5676 - accuracy: 0.8664 - val_loss: 0.9085 - val_accuracy: 0.6905\n",
            "Epoch 4/25\n",
            "1063/1063 [==============================] - 0s 111us/step - loss: 0.4966 - accuracy: 0.8664 - val_loss: 0.8900 - val_accuracy: 0.6905\n",
            "Epoch 5/25\n",
            "1063/1063 [==============================] - 0s 94us/step - loss: 0.4514 - accuracy: 0.8664 - val_loss: 0.8408 - val_accuracy: 0.6905\n",
            "Epoch 6/25\n",
            "1063/1063 [==============================] - 0s 92us/step - loss: 0.4103 - accuracy: 0.8664 - val_loss: 0.8098 - val_accuracy: 0.6905\n",
            "Epoch 7/25\n",
            "1063/1063 [==============================] - 0s 94us/step - loss: 0.3703 - accuracy: 0.8674 - val_loss: 0.7630 - val_accuracy: 0.6943\n",
            "Epoch 8/25\n",
            "1063/1063 [==============================] - 0s 90us/step - loss: 0.3328 - accuracy: 0.9106 - val_loss: 0.7302 - val_accuracy: 0.6980\n",
            "Epoch 9/25\n",
            "1063/1063 [==============================] - 0s 91us/step - loss: 0.2980 - accuracy: 0.9436 - val_loss: 0.6938 - val_accuracy: 0.7018\n",
            "Epoch 10/25\n",
            "1063/1063 [==============================] - 0s 87us/step - loss: 0.2690 - accuracy: 0.9530 - val_loss: 0.6544 - val_accuracy: 0.7027\n",
            "Epoch 11/25\n",
            "1063/1063 [==============================] - 0s 92us/step - loss: 0.2440 - accuracy: 0.9548 - val_loss: 0.6237 - val_accuracy: 0.7037\n",
            "Epoch 12/25\n",
            "1063/1063 [==============================] - 0s 88us/step - loss: 0.2226 - accuracy: 0.9548 - val_loss: 0.5920 - val_accuracy: 0.7037\n",
            "Epoch 13/25\n",
            "1063/1063 [==============================] - 0s 96us/step - loss: 0.2032 - accuracy: 0.9548 - val_loss: 0.5582 - val_accuracy: 0.7046\n",
            "Epoch 14/25\n",
            "1063/1063 [==============================] - 0s 92us/step - loss: 0.1860 - accuracy: 0.9548 - val_loss: 0.5155 - val_accuracy: 0.7056\n",
            "Epoch 15/25\n",
            "1063/1063 [==============================] - 0s 92us/step - loss: 0.1696 - accuracy: 0.9548 - val_loss: 0.4722 - val_accuracy: 0.7065\n",
            "Epoch 16/25\n",
            "1063/1063 [==============================] - 0s 99us/step - loss: 0.1540 - accuracy: 0.9558 - val_loss: 0.4356 - val_accuracy: 0.7469\n",
            "Epoch 17/25\n",
            "1063/1063 [==============================] - 0s 88us/step - loss: 0.1394 - accuracy: 0.9680 - val_loss: 0.4083 - val_accuracy: 0.8260\n",
            "Epoch 18/25\n",
            "1063/1063 [==============================] - 0s 97us/step - loss: 0.1259 - accuracy: 0.9708 - val_loss: 0.3803 - val_accuracy: 0.8674\n",
            "Epoch 19/25\n",
            "1063/1063 [==============================] - 0s 83us/step - loss: 0.1139 - accuracy: 0.9765 - val_loss: 0.3541 - val_accuracy: 0.8899\n",
            "Epoch 20/25\n",
            "1063/1063 [==============================] - 0s 96us/step - loss: 0.1036 - accuracy: 0.9849 - val_loss: 0.3335 - val_accuracy: 0.9069\n",
            "Epoch 21/25\n",
            "1063/1063 [==============================] - 0s 110us/step - loss: 0.0943 - accuracy: 0.9897 - val_loss: 0.3237 - val_accuracy: 0.9078\n",
            "Epoch 22/25\n",
            "1063/1063 [==============================] - 0s 93us/step - loss: 0.0868 - accuracy: 0.9944 - val_loss: 0.3143 - val_accuracy: 0.9106\n",
            "Epoch 23/25\n",
            "1063/1063 [==============================] - 0s 101us/step - loss: 0.0804 - accuracy: 0.9962 - val_loss: 0.3100 - val_accuracy: 0.9125\n",
            "Epoch 24/25\n",
            "1063/1063 [==============================] - 0s 94us/step - loss: 0.0753 - accuracy: 0.9962 - val_loss: 0.3050 - val_accuracy: 0.9125\n",
            "Epoch 25/25\n",
            "1063/1063 [==============================] - 0s 86us/step - loss: 0.0706 - accuracy: 0.9962 - val_loss: 0.3017 - val_accuracy: 0.9135\n",
            "1063/1063 [==============================] - 0s 31us/step\n",
            "test_acc: 0.9134525060653687  test_loss: 0.301652486242445\n"
          ],
          "name": "stdout"
        }
      ]
    },
    {
      "cell_type": "code",
      "metadata": {
        "id": "qSoWP4LKmfY3",
        "colab_type": "code",
        "outputId": "671e11b2-b896-4f5a-aeb3-64ace58f4450",
        "colab": {
          "base_uri": "https://localhost:8080/",
          "height": 1000
        }
      },
      "source": [
        "for i in range(1000):\n",
        "  if(dsTestY[i] == 3.0):\n",
        "    print(i)"
      ],
      "execution_count": 0,
      "outputs": [
        {
          "output_type": "stream",
          "text": [
            "118\n",
            "238\n",
            "239\n",
            "289\n",
            "291\n",
            "292\n",
            "293\n",
            "294\n",
            "295\n",
            "311\n",
            "312\n",
            "313\n",
            "342\n",
            "356\n",
            "358\n",
            "359\n",
            "360\n",
            "361\n",
            "362\n",
            "364\n",
            "365\n",
            "372\n",
            "379\n",
            "380\n",
            "408\n",
            "409\n",
            "410\n",
            "411\n",
            "412\n",
            "417\n",
            "418\n",
            "465\n",
            "466\n",
            "587\n",
            "588\n",
            "589\n",
            "590\n",
            "591\n",
            "592\n",
            "593\n",
            "594\n",
            "595\n",
            "596\n",
            "644\n",
            "659\n",
            "698\n",
            "699\n",
            "710\n",
            "711\n",
            "720\n",
            "721\n",
            "722\n",
            "723\n",
            "727\n",
            "728\n",
            "734\n",
            "738\n",
            "739\n",
            "742\n",
            "743\n",
            "745\n",
            "753\n",
            "764\n",
            "765\n",
            "766\n",
            "822\n",
            "946\n",
            "968\n",
            "969\n"
          ],
          "name": "stdout"
        }
      ]
    },
    {
      "cell_type": "code",
      "metadata": {
        "id": "-cnrifWDFv_h",
        "colab_type": "code",
        "outputId": "74562704-0616-4612-efdc-24adc466cac2",
        "colab": {
          "base_uri": "https://localhost:8080/",
          "height": 34
        }
      },
      "source": [
        "arr = [dsTestX[118]]\n",
        "arr = numpy.array(arr)\n",
        "auxArr = network.predict(arr)\n",
        "index0=numpy.argmax(auxArr[0])\n",
        "print(index0)\n",
        "\n",
        "# index1=numpy.argmax(auxArr[1])\n",
        "#index2=numpy.argmax(auxArr[2])\n",
        "\n",
        "\n",
        "# print(index0,index1,index2)\n"
      ],
      "execution_count": 0,
      "outputs": [
        {
          "output_type": "stream",
          "text": [
            "3\n"
          ],
          "name": "stdout"
        }
      ]
    },
    {
      "cell_type": "code",
      "metadata": {
        "id": "p1ILWqWRjIVL",
        "colab_type": "code",
        "colab": {}
      },
      "source": [
        ""
      ],
      "execution_count": 0,
      "outputs": []
    }
  ]
}